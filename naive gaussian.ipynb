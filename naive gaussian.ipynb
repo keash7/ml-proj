{
 "cells": [
  {
   "cell_type": "code",
   "execution_count": 55,
   "metadata": {},
   "outputs": [],
   "source": [
    "import csv as csv\n",
    "import pandas as pd\n",
    "import numpy as np\n",
    "\n",
    "train = pd.read_csv('wine-reviews\\winemag-data_first150k.csv', header=0)"
   ]
  },
  {
   "cell_type": "code",
   "execution_count": 56,
   "metadata": {},
   "outputs": [
    {
     "name": "stdout",
     "output_type": "stream",
     "text": [
      "(150930, 11)\n"
     ]
    },
    {
     "data": {
      "text/html": [
       "<div>\n",
       "<style scoped>\n",
       "    .dataframe tbody tr th:only-of-type {\n",
       "        vertical-align: middle;\n",
       "    }\n",
       "\n",
       "    .dataframe tbody tr th {\n",
       "        vertical-align: top;\n",
       "    }\n",
       "\n",
       "    .dataframe thead th {\n",
       "        text-align: right;\n",
       "    }\n",
       "</style>\n",
       "<table border=\"1\" class=\"dataframe\">\n",
       "  <thead>\n",
       "    <tr style=\"text-align: right;\">\n",
       "      <th></th>\n",
       "      <th>Unnamed: 0</th>\n",
       "      <th>country</th>\n",
       "      <th>description</th>\n",
       "      <th>designation</th>\n",
       "      <th>points</th>\n",
       "      <th>price</th>\n",
       "      <th>province</th>\n",
       "      <th>region_1</th>\n",
       "      <th>region_2</th>\n",
       "      <th>variety</th>\n",
       "      <th>winery</th>\n",
       "    </tr>\n",
       "  </thead>\n",
       "  <tbody>\n",
       "    <tr>\n",
       "      <th>0</th>\n",
       "      <td>0</td>\n",
       "      <td>US</td>\n",
       "      <td>This tremendous 100% varietal wine hails from ...</td>\n",
       "      <td>Martha's Vineyard</td>\n",
       "      <td>96</td>\n",
       "      <td>235.0</td>\n",
       "      <td>California</td>\n",
       "      <td>Napa Valley</td>\n",
       "      <td>Napa</td>\n",
       "      <td>Cabernet Sauvignon</td>\n",
       "      <td>Heitz</td>\n",
       "    </tr>\n",
       "    <tr>\n",
       "      <th>1</th>\n",
       "      <td>1</td>\n",
       "      <td>Spain</td>\n",
       "      <td>Ripe aromas of fig, blackberry and cassis are ...</td>\n",
       "      <td>Carodorum Selección Especial Reserva</td>\n",
       "      <td>96</td>\n",
       "      <td>110.0</td>\n",
       "      <td>Northern Spain</td>\n",
       "      <td>Toro</td>\n",
       "      <td>NaN</td>\n",
       "      <td>Tinta de Toro</td>\n",
       "      <td>Bodega Carmen Rodríguez</td>\n",
       "    </tr>\n",
       "    <tr>\n",
       "      <th>2</th>\n",
       "      <td>2</td>\n",
       "      <td>US</td>\n",
       "      <td>Mac Watson honors the memory of a wine once ma...</td>\n",
       "      <td>Special Selected Late Harvest</td>\n",
       "      <td>96</td>\n",
       "      <td>90.0</td>\n",
       "      <td>California</td>\n",
       "      <td>Knights Valley</td>\n",
       "      <td>Sonoma</td>\n",
       "      <td>Sauvignon Blanc</td>\n",
       "      <td>Macauley</td>\n",
       "    </tr>\n",
       "    <tr>\n",
       "      <th>3</th>\n",
       "      <td>3</td>\n",
       "      <td>US</td>\n",
       "      <td>This spent 20 months in 30% new French oak, an...</td>\n",
       "      <td>Reserve</td>\n",
       "      <td>96</td>\n",
       "      <td>65.0</td>\n",
       "      <td>Oregon</td>\n",
       "      <td>Willamette Valley</td>\n",
       "      <td>Willamette Valley</td>\n",
       "      <td>Pinot Noir</td>\n",
       "      <td>Ponzi</td>\n",
       "    </tr>\n",
       "    <tr>\n",
       "      <th>4</th>\n",
       "      <td>4</td>\n",
       "      <td>France</td>\n",
       "      <td>This is the top wine from La Bégude, named aft...</td>\n",
       "      <td>La Brûlade</td>\n",
       "      <td>95</td>\n",
       "      <td>66.0</td>\n",
       "      <td>Provence</td>\n",
       "      <td>Bandol</td>\n",
       "      <td>NaN</td>\n",
       "      <td>Provence red blend</td>\n",
       "      <td>Domaine de la Bégude</td>\n",
       "    </tr>\n",
       "  </tbody>\n",
       "</table>\n",
       "</div>"
      ],
      "text/plain": [
       "   Unnamed: 0 country                                        description  \\\n",
       "0           0      US  This tremendous 100% varietal wine hails from ...   \n",
       "1           1   Spain  Ripe aromas of fig, blackberry and cassis are ...   \n",
       "2           2      US  Mac Watson honors the memory of a wine once ma...   \n",
       "3           3      US  This spent 20 months in 30% new French oak, an...   \n",
       "4           4  France  This is the top wine from La Bégude, named aft...   \n",
       "\n",
       "                            designation  points  price        province  \\\n",
       "0                     Martha's Vineyard      96  235.0      California   \n",
       "1  Carodorum Selección Especial Reserva      96  110.0  Northern Spain   \n",
       "2         Special Selected Late Harvest      96   90.0      California   \n",
       "3                               Reserve      96   65.0          Oregon   \n",
       "4                            La Brûlade      95   66.0        Provence   \n",
       "\n",
       "            region_1           region_2             variety  \\\n",
       "0        Napa Valley               Napa  Cabernet Sauvignon   \n",
       "1               Toro                NaN       Tinta de Toro   \n",
       "2     Knights Valley             Sonoma     Sauvignon Blanc   \n",
       "3  Willamette Valley  Willamette Valley          Pinot Noir   \n",
       "4             Bandol                NaN  Provence red blend   \n",
       "\n",
       "                    winery  \n",
       "0                    Heitz  \n",
       "1  Bodega Carmen Rodríguez  \n",
       "2                 Macauley  \n",
       "3                    Ponzi  \n",
       "4     Domaine de la Bégude  "
      ]
     },
     "execution_count": 56,
     "metadata": {},
     "output_type": "execute_result"
    }
   ],
   "source": [
    "print(train.shape)\n",
    "train.head()"
   ]
  },
  {
   "cell_type": "code",
   "execution_count": 57,
   "metadata": {},
   "outputs": [
    {
     "name": "stdout",
     "output_type": "stream",
     "text": [
      "[array([96, 235.0], dtype=object), array([96, 110.0], dtype=object), array([96, 90.0], dtype=object), array([96, 65.0], dtype=object), array([95, 66.0], dtype=object), array([95, 73.0], dtype=object), array([95, 65.0], dtype=object), array([95, 110.0], dtype=object), array([95, 65.0], dtype=object), array([95, 60.0], dtype=object), array([95, 80.0], dtype=object), array([95, 48.0], dtype=object), array([95, 48.0], dtype=object), array([95, 90.0], dtype=object), array([95, 185.0], dtype=object), array([95, 90.0], dtype=object), array([95, 325.0], dtype=object), array([95, 80.0], dtype=object), array([95, 290.0], dtype=object), array([95, 75.0], dtype=object), array([95, 24.0], dtype=object), array([95, 79.0], dtype=object), array([95, 220.0], dtype=object), array([95, 60.0], dtype=object), array([95, 45.0], dtype=object), array([94, 57.0], dtype=object), array([94, 62.0], dtype=object), array([94, 105.0], dtype=object), array([94, 60.0], dtype=object), array([94, 60.0], dtype=object), array([90, 15.0], dtype=object), array([90, 37.0], dtype=object), array([90, nan], dtype=object), array([90, 22.0], dtype=object), array([90, 42.0], dtype=object), array([90, 135.0], dtype=object), array([90, 60.0], dtype=object), array([90, 29.0], dtype=object), array([90, 23.0], dtype=object), array([90, 29.0], dtype=object), array([90, 17.0], dtype=object), array([90, 26.0], dtype=object), array([90, 55.0], dtype=object), array([90, 39.0], dtype=object), array([90, 69.0], dtype=object), array([90, 30.0], dtype=object), array([90, 90.0], dtype=object), array([90, 60.0], dtype=object), array([90, 50.0], dtype=object), array([90, 40.0], dtype=object), array([90, 100.0], dtype=object), array([90, 68.0], dtype=object), array([90, 42.0], dtype=object), array([90, 28.0], dtype=object), array([90, 18.0], dtype=object), array([90, 69.0], dtype=object), array([90, nan], dtype=object), array([90, 25.0], dtype=object), array([90, 30.0], dtype=object), array([90, 60.0], dtype=object), array([91, 30.0], dtype=object), array([91, 36.0], dtype=object), array([91, 25.0], dtype=object), array([91, 45.0], dtype=object), array([91, 23.0], dtype=object), array([91, 36.0], dtype=object), array([91, 38.0], dtype=object), array([91, 85.0], dtype=object), array([91, 50.0], dtype=object), array([91, 60.0], dtype=object), array([91, 85.0], dtype=object), array([91, 45.0], dtype=object), array([91, nan], dtype=object), array([91, 19.0], dtype=object), array([91, 15.0], dtype=object), array([91, 54.0], dtype=object), array([91, 85.0], dtype=object), array([91, 38.0], dtype=object), array([91, 28.0], dtype=object), array([91, 75.0], dtype=object), array([91, 42.0], dtype=object), array([91, 25.0], dtype=object), array([91, nan], dtype=object), array([91, 59.0], dtype=object), array([91, 85.0], dtype=object), array([91, 80.0], dtype=object), array([91, 45.0], dtype=object), array([91, 22.0], dtype=object), array([91, 65.0], dtype=object), array([91, 50.0], dtype=object), array([86, 10.0], dtype=object), array([86, 12.0], dtype=object), array([86, 22.0], dtype=object), array([86, 13.0], dtype=object), array([86, 10.0], dtype=object), array([86, 14.0], dtype=object), array([86, 18.0], dtype=object), array([86, 36.0], dtype=object), array([86, 15.0], dtype=object), array([86, 10.0], dtype=object)]\n"
     ]
    }
   ],
   "source": [
    "country=train.values[:,1]\n",
    "points=train.values[:,4]\n",
    "price=train.values[:,5]\n",
    "\n",
    "x=np.array(train.values[:,4:6])\n",
    "y=[]\n",
    "for g in range (100):\n",
    "    y.append(np.array(train.values[g,4:6]))\n",
    "    \n",
    "print (y)    "
   ]
  },
  {
   "cell_type": "code",
   "execution_count": 58,
   "metadata": {},
   "outputs": [
    {
     "data": {
      "image/png": "[encoded data removed]",
      "text/plain": [
       "<Figure size 432x288 with 1 Axes>"
      ]
     },
     "metadata": {},
     "output_type": "display_data"
    }
   ],
   "source": [
    "import matplotlib.pyplot as plt\n",
    "\n",
    "for h in range(10000):\n",
    "    #print(country[h])\n",
    "    if country[h]==str(\"US\"):\n",
    "         plt.plot(points[h],price[h],'bo')\n",
    "    if country[h]==str(\"Italy\"):\n",
    "         plt.plot(points[h],price[h],'ro')\n",
    "    if country[h]==str(\"France\"):\n",
    "         plt.plot(points[h],price[h],'go')    \n",
    "        \n",
    "        "
   ]
  },
  {
   "cell_type": "code",
   "execution_count": 43,
   "metadata": {},
   "outputs": [
    {
     "name": "stdout",
     "output_type": "stream",
     "text": [
      "['US', 'Italy', 'France', 'Spain', 'Chile', 'Argentina', 'Portugal', 'Australia', 'New Zealand', 'Austria', 'Germany', 'South Africa', 'Greece', 'Israel', 'Hungary', 'Canada', 'Romania', 'Slovenia', 'Uruguay', 'Croatia', 'Bulgaria', 'Moldova', 'Mexico', 'Turkey', 'Georgia', 'Lebanon', 'Cyprus', 'Brazil', 'Macedonia', 'Serbia', 'Morocco', 'England', 'Luxembourg', 'India', 'Lithuania', 'Czech Republic', nan, 'Ukraine', 'Switzerland', 'Bosnia and Herzegovina', 'South Korea', 'China', 'Slovakia', 'Egypt', 'Albania', 'Japan', 'Montenegro', 'Tunisia', 'US-France']\n",
      "[62397, 23478, 21098, 8268, 5816, 5631, 5322, 4957, 3320, 3057, 2452, 2258, 884, 630, 231, 196, 139, 94, 92, 89, 77, 71, 63, 52, 43, 37, 31, 25, 16, 14, 12, 9, 9, 8, 8, 6, 5, 5, 4, 4, 4, 3, 3, 3, 2, 2, 2, 2, 1]\n"
     ]
    }
   ],
   "source": [
    "from collections import Counter\n",
    "counts = Counter(country)\n",
    "#print(counts)\n",
    "common_country=[]\n",
    "country_freq=[]\n",
    "f=counts.most_common(49)\n",
    "for j in range (49):\n",
    "    common_country.append(f[j][0])\n",
    "    country_freq.append(f[j][1])\n",
    "    \n",
    "print(common_country)\n",
    "print(country_freq)\n",
    "\n",
    "    "
   ]
  },
  {
   "cell_type": "code",
   "execution_count": 179,
   "metadata": {},
   "outputs": [
    {
     "name": "stdout",
     "output_type": "stream",
     "text": [
      "[57.9074635  61.54080416 63.43478055 57.61115143 53.380674   52.17474694\n",
      " 63.79124389 44.17631632 44.68584337 61.72914622 62.65252855 50.85651019\n",
      " 47.81108597 64.57936508 49.01298701 64.94387755 48.56834532 80.64893617\n",
      " 47.17391304 71.92134831 60.23376623 33.16901408 70.3968254  86.40384615\n",
      " 69.65116279 61.08108108 44.67741935 46.72       53.625      87.71428571\n",
      " 81.33333333 92.88888889 29.         87.625      84.25       85.83333333\n",
      "  0.         84.6        45.         84.75       81.5        54.66666667\n",
      " 56.33333333  0.         88.         85.         82.          0.\n",
      "  0.        ]\n",
      "[22.50717182 20.47107931 22.55578728 17.41884373 12.55295736 13.03640561\n",
      " 14.36151823 16.63667541 12.03885542 16.44618907 27.5591354  12.48804252\n",
      " 12.33257919 22.84126984 26.49350649 25.44387755  6.69064748 21.23404255\n",
      " 14.5        19.20224719  8.8961039   7.04225352 24.88888889 24.42307692\n",
      " 15.74418605 16.86486486  8.25806452 11.72        9.5        24.28571429\n",
      " 18.33333333 42.22222222 13.55555556 13.875      10.         18.\n",
      "  0.         13.         12.25       12.75       13.5        18.\n",
      " 10.33333333  0.         20.         24.         10.          0.\n",
      "  0.        ]\n"
     ]
    }
   ],
   "source": [
    "sep_country_points=np.zeros(49)\n",
    "sep_country_price=np.zeros(49)\n",
    "#all_country_points=np.zeros((49,62397))\n",
    "#all_country_price=np.zeros((49,62397))\n",
    "import math\n",
    "\n",
    "for t in range (120000):\n",
    "    for l in range(49):    \n",
    "        if country[t] == common_country[l]:\n",
    "            sep_country_points[l]=sep_country_points[l] + points[t]\n",
    "            #for k in range (62397):\n",
    "               # if all_country_points[l][k] ==0:\n",
    "               # all_country_points[l][k] = points[t]\n",
    "               # break\n",
    "                \n",
    "            if math.isnan(price[t]):\n",
    "                price[t]=0\n",
    "               \n",
    "            sep_country_price[l]=sep_country_price[l] + price[t]\n",
    "          #  for k in range (62397): \n",
    "          #  if all_country_price[l][k] ==0:\n",
    "          #      all_country_price[l][k] = price[t]\n",
    "          #      break\n",
    "            #print(price[t],type(price[t]))\n",
    "    \n",
    "\n",
    "sep_country_points=sep_country_points/country_freq\n",
    "print(sep_country_points)\n",
    "\n",
    "sep_country_price=sep_country_price/country_freq\n",
    "print(sep_country_price)"
   ]
  },
  {
   "cell_type": "code",
   "execution_count": 188,
   "metadata": {},
   "outputs": [
    {
     "name": "stdout",
     "output_type": "stream",
     "text": [
      "[26.86647555 24.37281346 23.35570875 26.13791006 28.69145705 30.09833333\n",
      " 22.38343738 36.14767256 34.80941696 24.88567539 24.19811483 31.45968883\n",
      " 33.53210393 21.46176629 33.01201561 21.7128546  32.08115375  7.84357164\n",
      " 31.85769185 14.34545143 22.45747564 43.44636995 14.64057495  2.30151417\n",
      " 15.62110646 23.43122887 35.10265854 35.78799888 26.63238967  1.09730654\n",
      "  7.28900745  1.2862041  47.36149397  3.4255474   0.4330127   0.68718427\n",
      "  1.          1.0198039  31.81980515  2.04633819  0.5        22.31757321\n",
      " 23.08839696 83.66799468  1.          1.          1.          1.\n",
      "  1.        ]\n",
      "[0.01899235 0.02952839 0.03269703 0.04589966 0.04645803 0.04811563\n",
      " 0.05194727 0.05793271 0.06021762 0.07334743 0.10601628 0.07436785\n",
      " 0.11811385 0.19041004 0.33865987 0.36029946 0.21939497 0.47528315\n",
      " 0.39699962 0.46449498 0.33990266 0.31493915 0.62853936 0.68532806\n",
      " 0.60509822 0.67513492 0.51612903 0.68468971 0.77055175 1.31707778\n",
      " 1.23603308 2.1659543  1.22726234 1.31695672 1.11803399 1.73205081\n",
      " 1.         1.61245155 1.75       1.78535711 1.83711731 2.44948974\n",
      " 1.85592145 1.         3.16227766 3.46410162 2.23606798 1.\n",
      " 1.        ]\n"
     ]
    }
   ],
   "source": [
    "std_country_points=np.zeros(49)\n",
    "std_country_price=np.zeros(49)\n",
    "for t in range (120000):\n",
    "    for l in range(49):    \n",
    "        if country[t] == common_country[l]:\n",
    "            std_country_points[l]=std_country_points[l] + math.pow((points[t]-sep_country_points[l]),2)\n",
    "            if math.isnan(price[t]):\n",
    "                price[t]=0\n",
    "               \n",
    "            std_country_price[l]=std_country_price[l] + math.pow((points[t]-sep_country_price[l]),2)\n",
    "            \n",
    "std_country_points=np.sqrt(std_country_points/country_freq)          \n",
    "std_country_price=np.sqrt(sep_country_price/country_freq)            \n",
    "\n",
    "for r in range(49):\n",
    "    if std_country_points[r] ==0:\n",
    "        std_country_points[r]=1;\n",
    "    if std_country_price[r] ==0:\n",
    "        std_country_price[r]=1;\n",
    "print(std_country_points)\n",
    "print(std_country_price)"
   ]
  },
  {
   "cell_type": "code",
   "execution_count": 189,
   "metadata": {},
   "outputs": [],
   "source": [
    "def mean(numbers):\n",
    "    return sum(numbers)/float(len(numbers))\n",
    " \n",
    "def stdev(numbers):\n",
    "    avg = mean(numbers)\n",
    "    variance = sum([pow(x-avg,2) for x in numbers])/float(len(numbers)-1)\n",
    "    return math.sqrt(variance)"
   ]
  },
  {
   "cell_type": "code",
   "execution_count": 190,
   "metadata": {},
   "outputs": [],
   "source": [
    "def calculateProbability(x, mean, stdev):\n",
    "    exponent = math.exp(-(math.pow(x-mean,2)/(2*math.pow(stdev,2))))\n",
    "    return (1 / (math.sqrt(2*math.pi) * stdev)) * exponent"
   ]
  },
  {
   "cell_type": "code",
   "execution_count": 191,
   "metadata": {},
   "outputs": [],
   "source": [
    "def calculateClassProbabilities(mean,stdev, inputVector):\n",
    "    probabilities = np.ones(49)\n",
    "    for classValue in range (49):\n",
    "        #probabilities[classValue] = 1\n",
    "        for i in range(1):\n",
    "            x = inputVector[i]\n",
    "            #xx=np.asscalar(x)\n",
    "            #print(calculateProbability(np.asscalar(x), np.asscalar(mean[classValue]), np.asscalar(stdev[classValue])))\n",
    "            probabilities[classValue] *= calculateProbability(x, np.asscalar(mean[classValue]), np.asscalar(stdev[classValue]))\n",
    "    return probabilities"
   ]
  },
  {
   "cell_type": "code",
   "execution_count": 199,
   "metadata": {},
   "outputs": [
    {
     "name": "stdout",
     "output_type": "stream",
     "text": [
      "(49,)\n",
      "(49,)\n",
      "(30000,)\n",
      "[31. 31. 31. ... 31. 31. 31.]\n",
      "[48. 48. 48. ... 48. 48. 48.]\n",
      "0\n"
     ]
    }
   ],
   "source": [
    "train_data=data[:,0:120000]  \n",
    "test_data=data[:,120000:150000] \n",
    "print(sep_country_points.shape)\n",
    "print(std_country_points.shape)\n",
    "print(test_data[0].shape)\n",
    "ll=np.zeros(30000)\n",
    "pred=np.zeros(30000)\n",
    "num_corr=0;\n",
    "for u in range(30000):\n",
    "    ll=calculateClassProbabilities(sep_country_points,std_country_points,test_data[0])\n",
    "    pred[u]=np.argmax(ll)\n",
    "#asd=pred-all_country[120000:150000]\n",
    "#acc=np.count_nonzero(asd)/asd.size  \n",
    "    if pred[u] == all_country[u]:\n",
    "        num_corr=num_corr+1\n",
    "print(pred)    \n",
    "print(all_country)\n",
    "acc=num_corr  \n",
    "print(acc)\n",
    "#print(pred)\n",
    "#print(common_country[pred])"
   ]
  },
  {
   "cell_type": "code",
   "execution_count": 154,
   "metadata": {},
   "outputs": [
    {
     "name": "stdout",
     "output_type": "stream",
     "text": [
      "(2, 150930)\n"
     ]
    }
   ],
   "source": [
    "data=np.vstack((points,price))\n",
    "print(data.shape)"
   ]
  },
  {
   "cell_type": "code",
   "execution_count": 198,
   "metadata": {},
   "outputs": [
    {
     "name": "stdout",
     "output_type": "stream",
     "text": [
      "(120000, 2)\n",
      "(120000,)\n",
      "[ 0.  0.  0. ...  0. 34.  0.]\n",
      "(30000,)\n",
      "(30000,)\n",
      "0.9999666666666667\n"
     ]
    }
   ],
   "source": [
    "from sklearn.naive_bayes import GaussianNB\n",
    "model = GaussianNB()\n",
    "\n",
    "# Train the model using the training sets \n",
    "for x in range(data.shape[1]):\n",
    "    if math.isnan(data[0][x]):\n",
    "                data[0][x]=0\n",
    "    if math.isnan(data[1][x]):\n",
    "                data[1][x]=0\n",
    "            \n",
    "train_data=data[:,0:120000]  \n",
    "test_data=data[:,120000:150000]  \n",
    "new_country=np.zeros(120000)            \n",
    "for t in range (120000):\n",
    "    for l in range(49):    \n",
    "        if country[t] == common_country[l]:\n",
    "            #np.concatenate((new_country,np.array([l])),axis=0)\n",
    "            #np.append(new_country,l)\n",
    "            new_country[t]=l\n",
    "all_country=np.zeros(150000)           \n",
    "for m in range (150000):\n",
    "    for n in range(49):    \n",
    "        if country[m] == common_country[n]:\n",
    "            #np.concatenate((new_country,np.array([l])),axis=0)\n",
    "            #np.append(new_country,l)\n",
    "            all_country[m]=l            \n",
    "            \n",
    "print(np.transpose(train_data).shape)\n",
    "print(new_country.shape)\n",
    "#f=float(country)\n",
    "model.fit(np.transpose(train_data),new_country)\n",
    "\n",
    "#Predict Output \n",
    "predicted= model.predict(np.transpose(test_data))\n",
    "print (predicted)\n",
    "\n",
    "print(predicted.shape)\n",
    "print(all_country[120000:150000].shape)\n",
    "asd=predicted-all_country[120000:150000]\n",
    "acc=np.count_nonzero(asd)/asd.size\n",
    "print(acc)"
   ]
  },
  {
   "cell_type": "code",
   "execution_count": null,
   "metadata": {},
   "outputs": [],
   "source": []
  }
 ],
 "metadata": {
  "kernelspec": {
   "display_name": "Python 3",
   "language": "python",
   "name": "python3"
  },
  "language_info": {
   "codemirror_mode": {
    "name": "ipython",
    "version": 3
   },
   "file_extension": ".py",
   "mimetype": "text/x-python",
   "name": "python",
   "nbconvert_exporter": "python",
   "pygments_lexer": "ipython3",
   "version": "3.6.5"
  }
 },
 "nbformat": 4,
 "nbformat_minor": 2
}
